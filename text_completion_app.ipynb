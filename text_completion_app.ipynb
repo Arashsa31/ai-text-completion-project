{
 "cells": [
  {
   "cell_type": "code",
   "execution_count": null,
   "id": "26b2966f",
   "metadata": {},
   "outputs": [],
   "source": [
    "from openai import OpenAI\n",
    "import sys\n",
    "\n",
    "apiKey = input(\"Enter API key: \")\n",
    "API_Token = OpenAI(api_key=input)\n",
    "\n",
    "# Get user input with basic validation\n",
    "user_input = input(\"Please enter your message: \").strip()\n",
    "if not user_input:\n",
    "    print(\"Error: Input cannot be empty.\")\n",
    "    sys.exit(1)\n",
    "\n",
    "# Call API with error handling\n",
    "try:\n",
    "    chat_completion = API_Token.chat.completions.create(\n",
    "        model=\"gpt-3.5-turbo\",\n",
    "        messages=[{\"role\": \"user\", \"content\": user_input}]\n",
    "    )\n",
    "    print(chat_completion.choices[0].message.content.strip())\n",
    "except Exception as e:\n",
    "    print(f\"API Error: {e}\")\n"
   ]
  }
 ],
 "metadata": {
  "kernelspec": {
   "display_name": "Python 3",
   "language": "python",
   "name": "python3"
  },
  "language_info": {
   "codemirror_mode": {
    "name": "ipython",
    "version": 3
   },
   "file_extension": ".py",
   "mimetype": "text/x-python",
   "name": "python",
   "nbconvert_exporter": "python",
   "pygments_lexer": "ipython3",
   "version": "3.13.3"
  }
 },
 "nbformat": 4,
 "nbformat_minor": 5
}
